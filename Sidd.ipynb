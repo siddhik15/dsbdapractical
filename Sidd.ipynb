{
 "cells": [
  {
   "cell_type": "code",
   "execution_count": 22,
   "id": "f00e8837-1b94-408a-99e5-02453dbc3f39",
   "metadata": {},
   "outputs": [],
   "source": [
    "# Task ; Question 2.1"
   ]
  },
  {
   "cell_type": "code",
   "execution_count": 23,
   "id": "2137e5f3-33d5-46f5-9390-718a23c0ebfe",
   "metadata": {},
   "outputs": [],
   "source": [
    "input=\"a4b4c4d1\"\n",
    "output=\"\""
   ]
  },
  {
   "cell_type": "code",
   "execution_count": 24,
   "id": "94a95553-570f-4f1a-9389-3547811d8ec6",
   "metadata": {},
   "outputs": [],
   "source": [
    "for i in range(0,len(input),2):\n",
    "    char=input[i]\n",
    "    count=int(input[i+1])\n",
    "    output += char * count\n",
    "    "
   ]
  },
  {
   "cell_type": "code",
   "execution_count": 25,
   "id": "d2ae7470-b8c6-4af3-8f66-2b98a9455cff",
   "metadata": {},
   "outputs": [
    {
     "name": "stdout",
     "output_type": "stream",
     "text": [
      "aaaabbbbccccd\n"
     ]
    }
   ],
   "source": [
    "print(output)"
   ]
  },
  {
   "cell_type": "code",
   "execution_count": 26,
   "id": "45a1c588-67ab-4c9a-9499-df7c1317736e",
   "metadata": {},
   "outputs": [],
   "source": [
    "# Task ; Question 2.2"
   ]
  },
  {
   "cell_type": "code",
   "execution_count": 27,
   "id": "7f976f7c-9b04-46c6-9dc2-d37df5effe0a",
   "metadata": {},
   "outputs": [],
   "source": [
    "input=\"a3b4c4d1\"\n",
    "output=\"\""
   ]
  },
  {
   "cell_type": "code",
   "execution_count": 28,
   "id": "c80e8e28-7d36-4ed4-8aa8-94fff7671bbe",
   "metadata": {},
   "outputs": [
    {
     "name": "stdout",
     "output_type": "stream",
     "text": [
      "aaabbbbccccd\n"
     ]
    }
   ],
   "source": [
    "for i in range(0,len(input),2):\n",
    "    char=input[i]\n",
    "    count=int(input[i+1])\n",
    "    output += char * count\n",
    "print(output)    "
   ]
  },
  {
   "cell_type": "code",
   "execution_count": 58,
   "id": "62e7ffdb-eaca-4b2b-9b7c-151e35a2aea2",
   "metadata": {},
   "outputs": [],
   "source": [
    "# Task ; Question 3"
   ]
  },
  {
   "cell_type": "code",
   "execution_count": 60,
   "id": "b967911b-f170-4fa0-b537-5dbf29aaf52b",
   "metadata": {},
   "outputs": [],
   "source": [
    " #frequency of elements in list"
   ]
  },
  {
   "cell_type": "code",
   "execution_count": 2,
   "id": "07c0934a-55f6-4759-92a0-859b3ae15122",
   "metadata": {},
   "outputs": [
    {
     "name": "stdout",
     "output_type": "stream",
     "text": [
      "The Orignal list: [[3, 5, 4], [6, 2, 4], [1, 3, 6]]\n",
      "list frequency of element is  {3: 2, 5: 1, 4: 2, 6: 2, 2: 1, 1: 1}\n"
     ]
    }
   ],
   "source": [
    "test_list = [[3, 5, 4],\n",
    "             [6, 2, 4],\n",
    "             [1, 3, 6]]\n",
    "dic = {}\n",
    "\n",
    "for sublist in test_list:\n",
    "    for element in sublist:\n",
    "        if element in dic:\n",
    "            dic[element] += 1\n",
    "        else :\n",
    "            dic[element] = 1   \n",
    "\n",
    "print(\"The Orignal list:\",test_list)\n",
    "print(\"list frequency of element is \",dic)"
   ]
  },
  {
   "cell_type": "raw",
   "id": "bbcd633f-2fb6-4eb0-b966-71dc048963de",
   "metadata": {},
   "source": [
    "# Task ; Question 4"
   ]
  },
  {
   "cell_type": "code",
   "execution_count": 38,
   "id": "372e04a0-a8b2-45f6-9717-f09ccc65bb7e",
   "metadata": {},
   "outputs": [
    {
     "name": "stdout",
     "output_type": "stream",
     "text": [
      "[3, 4, 5]\n"
     ]
    }
   ],
   "source": [
    "list1 = [1,2,3,4,5]\n",
    "list2 = [4,5,3,7,8]\n",
    "op=[]\n",
    "for i in list1:\n",
    "    if i in list2:\n",
    "        op.append(i)\n",
    "print(op)"
   ]
  },
  {
   "cell_type": "code",
   "execution_count": 40,
   "id": "af7de50f-24f9-46ab-9818-cedacf97070b",
   "metadata": {},
   "outputs": [],
   "source": [
    "# Task ; Question 5"
   ]
  },
  {
   "cell_type": "code",
   "execution_count": 62,
   "id": "301206c6-f288-48b9-a6b5-08f319a5f4a5",
   "metadata": {},
   "outputs": [
    {
     "name": "stdout",
     "output_type": "stream",
     "text": [
      "['S', 'M', 'R']\n"
     ]
    }
   ],
   "source": [
    "list = ['Sohan', 'Mohan', 'Rohan']\n",
    "output=[]\n",
    "\n",
    "for i in list:\n",
    "   output.append(i[0])\n",
    "        \n",
    "print(output)        "
   ]
  },
  {
   "cell_type": "code",
   "execution_count": 64,
   "id": "b4e6ef86-cacc-40e3-9c18-0f1922d2cc06",
   "metadata": {},
   "outputs": [],
   "source": [
    "# Task ; Question 6"
   ]
  },
  {
   "cell_type": "code",
   "execution_count": 82,
   "id": "25701a48-9772-4a61-b66a-baa5534cc10b",
   "metadata": {},
   "outputs": [
    {
     "name": "stdout",
     "output_type": "stream",
     "text": [
      "python\n"
     ]
    }
   ],
   "source": [
    "list=['pandas', 'numpy','flask', 'python', 'python']\n",
    "output=[]\n",
    "\n",
    "for item in list:\n",
    "    if list.count(item)>1 and item not in output:\n",
    "        output.append(item)\n",
    "\n",
    "for i in output:\n",
    "    print(i)"
   ]
  },
  {
   "cell_type": "code",
   "execution_count": 84,
   "id": "5cdce681-4771-4f6b-9522-c10128e09d35",
   "metadata": {},
   "outputs": [],
   "source": [
    "# Task ; Question 7"
   ]
  },
  {
   "cell_type": "code",
   "execution_count": 112,
   "id": "36f8ebc2-cb22-451b-97b9-89f23d283311",
   "metadata": {},
   "outputs": [
    {
     "name": "stdout",
     "output_type": "stream",
     "text": [
      "count for the string is 14\n",
      "Count for the string is 14\n"
     ]
    }
   ],
   "source": [
    "my_string=\"santosh kawade\"\n",
    "if i in my_string:\n",
    "    output=len(my_string)\n",
    "print(f\"count for the string is {output}\")    \n",
    "# or\n",
    "\n",
    "print(\"Count for the string is\",len(my_string))"
   ]
  },
  {
   "cell_type": "code",
   "execution_count": 104,
   "id": "5f058a72-e4be-4971-a23e-f983980fc2cd",
   "metadata": {},
   "outputs": [],
   "source": [
    "# Task ; Question 8"
   ]
  },
  {
   "cell_type": "code",
   "execution_count": 110,
   "id": "a55e5c5c-717b-49ec-a5ef-085b9ebfd7b2",
   "metadata": {},
   "outputs": [
    {
     "name": "stdout",
     "output_type": "stream",
     "text": [
      "count for the list is  9\n"
     ]
    }
   ],
   "source": [
    "list=[1,2,5,3,4,8,9,\"lis\",\"a\"]\n",
    "\n",
    "if i in list:\n",
    "    print(\"count for the list is \",len(list))"
   ]
  }
 ],
 "metadata": {
  "kernelspec": {
   "display_name": "Python [conda env:base] *",
   "language": "python",
   "name": "conda-base-py"
  },
  "language_info": {
   "codemirror_mode": {
    "name": "ipython",
    "version": 3
   },
   "file_extension": ".py",
   "mimetype": "text/x-python",
   "name": "python",
   "nbconvert_exporter": "python",
   "pygments_lexer": "ipython3",
   "version": "3.12.7"
  }
 },
 "nbformat": 4,
 "nbformat_minor": 5
}
