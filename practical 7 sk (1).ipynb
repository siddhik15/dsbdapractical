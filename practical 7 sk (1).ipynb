{
 "cells": [
  {
   "cell_type": "code",
   "execution_count": 2,
   "id": "6f6270f1",
   "metadata": {},
   "outputs": [
    {
     "name": "stderr",
     "output_type": "stream",
     "text": [
      "[nltk_data] Downloading package punkt to\n",
      "[nltk_data]     C:\\Users\\Welcome\\AppData\\Roaming\\nltk_data...\n",
      "[nltk_data]   Package punkt is already up-to-date!\n",
      "[nltk_data] Downloading package stopwords to\n",
      "[nltk_data]     C:\\Users\\Welcome\\AppData\\Roaming\\nltk_data...\n",
      "[nltk_data]   Package stopwords is already up-to-date!\n",
      "[nltk_data] Downloading package wordnet to\n",
      "[nltk_data]     C:\\Users\\Welcome\\AppData\\Roaming\\nltk_data...\n",
      "[nltk_data]   Package wordnet is already up-to-date!\n",
      "[nltk_data] Downloading package averaged_perceptron_tagger to\n",
      "[nltk_data]     C:\\Users\\Welcome\\AppData\\Roaming\\nltk_data...\n",
      "[nltk_data]   Package averaged_perceptron_tagger is already up-to-\n",
      "[nltk_data]       date!\n"
     ]
    },
    {
     "data": {
      "text/plain": [
       "True"
      ]
     },
     "execution_count": 2,
     "metadata": {},
     "output_type": "execute_result"
    }
   ],
   "source": [
    "import nltk\n",
    "nltk.download(\"punkt\")\n",
    "nltk.download(\"stopwords\")\n",
    "nltk.download(\"wordnet\")\n",
    "nltk.download(\"averaged_perceptron_tagger\")"
   ]
  },
  {
   "cell_type": "code",
   "execution_count": 3,
   "id": "1f7e00a7",
   "metadata": {},
   "outputs": [],
   "source": [
    "from nltk import word_tokenize, sent_tokenize\n"
   ]
  },
  {
   "cell_type": "code",
   "execution_count": 4,
   "id": "0f0de326",
   "metadata": {},
   "outputs": [],
   "source": [
    "corpus = \"Sachin was the GOAT of the previous generation. Virat is the GOAT of this generation. Shubman will be the GOAT of the next generation\""
   ]
  },
  {
   "cell_type": "code",
   "execution_count": 5,
   "id": "0b4f5d8d",
   "metadata": {},
   "outputs": [
    {
     "data": {
      "text/plain": [
       "'Sachin was the GOAT of the previous generation Virat is the GOAT of this generation Shubman will be the GOAT of the next generation'"
      ]
     },
     "execution_count": 5,
     "metadata": {},
     "output_type": "execute_result"
    }
   ],
   "source": [
    "import string \n",
    "corpus=corpus.translate(corpus.maketrans(\"\",\"\",string.punctuation))\n",
    "corpus"
   ]
  },
  {
   "cell_type": "code",
   "execution_count": 6,
   "id": "8f82b679",
   "metadata": {},
   "outputs": [
    {
     "name": "stdout",
     "output_type": "stream",
     "text": [
      "['Sachin', 'was', 'the', 'GOAT', 'of', 'the', 'previous', 'generation', 'Virat', 'is', 'the', 'GOAT', 'of', 'this', 'generation', 'Shubman', 'will', 'be', 'the', 'GOAT', 'of', 'the', 'next', 'generation']\n",
      "['Sachin was the GOAT of the previous generation Virat is the GOAT of this generation Shubman will be the GOAT of the next generation']\n"
     ]
    }
   ],
   "source": [
    "print(word_tokenize(corpus))\n",
    "print(sent_tokenize(corpus))"
   ]
  },
  {
   "cell_type": "code",
   "execution_count": 7,
   "id": "90f4217d",
   "metadata": {},
   "outputs": [],
   "source": [
    "from nltk import pos_tag"
   ]
  },
  {
   "cell_type": "code",
   "execution_count": 8,
   "id": "34602bf7",
   "metadata": {},
   "outputs": [
    {
     "name": "stdout",
     "output_type": "stream",
     "text": [
      "[('Sachin', 'NNP'), ('was', 'VBD'), ('the', 'DT'), ('GOAT', 'NNP'), ('of', 'IN'), ('the', 'DT'), ('previous', 'JJ'), ('generation', 'NN'), ('Virat', 'NNP'), ('is', 'VBZ'), ('the', 'DT'), ('GOAT', 'NNP'), ('of', 'IN'), ('this', 'DT'), ('generation', 'NN'), ('Shubman', 'NNP'), ('will', 'MD'), ('be', 'VB'), ('the', 'DT'), ('GOAT', 'NNP'), ('of', 'IN'), ('the', 'DT'), ('next', 'JJ'), ('generation', 'NN')]\n"
     ]
    }
   ],
   "source": [
    "tokens = word_tokenize(corpus)\n",
    "print(pos_tag(tokens))"
   ]
  },
  {
   "cell_type": "code",
   "execution_count": 9,
   "id": "7e8bd585",
   "metadata": {},
   "outputs": [],
   "source": [
    "from nltk.corpus import stopwords\n",
    "stop_words = set(stopwords.words(\"english\"))"
   ]
  },
  {
   "cell_type": "code",
   "execution_count": 10,
   "id": "3734ce6c",
   "metadata": {},
   "outputs": [
    {
     "name": "stdout",
     "output_type": "stream",
     "text": [
      "['Sachin', 'GOAT', 'previous', 'generation', 'Virat', 'GOAT', 'generation', 'Shubman', 'GOAT', 'next', 'generation']\n"
     ]
    }
   ],
   "source": [
    "tokens = word_tokenize(corpus)\n",
    "cleaned_tokens = []\n",
    "for token in tokens:\n",
    "  if (token not in stop_words):\n",
    "    cleaned_tokens.append(token)\n",
    "print(cleaned_tokens)"
   ]
  },
  {
   "cell_type": "code",
   "execution_count": 11,
   "id": "e797f0d6",
   "metadata": {},
   "outputs": [],
   "source": [
    "from nltk.stem import PorterStemmer"
   ]
  },
  {
   "cell_type": "code",
   "execution_count": 12,
   "id": "92db99fe",
   "metadata": {},
   "outputs": [],
   "source": [
    "stemmer = PorterStemmer()"
   ]
  },
  {
   "cell_type": "code",
   "execution_count": 13,
   "id": "40738a70",
   "metadata": {},
   "outputs": [
    {
     "name": "stdout",
     "output_type": "stream",
     "text": [
      "['sachin', 'goat', 'previou', 'gener', 'virat', 'goat', 'gener', 'shubman', 'goat', 'next', 'gener']\n"
     ]
    }
   ],
   "source": [
    "stemmed_tokens = []\n",
    "for token in cleaned_tokens:\n",
    "  stemmed = stemmer.stem(token)\n",
    "  stemmed_tokens.append(stemmed)\n",
    "print(stemmed_tokens)"
   ]
  },
  {
   "cell_type": "code",
   "execution_count": 14,
   "id": "45de862f",
   "metadata": {},
   "outputs": [],
   "source": [
    "from nltk.stem import WordNetLemmatizer"
   ]
  },
  {
   "cell_type": "code",
   "execution_count": 15,
   "id": "873637de",
   "metadata": {},
   "outputs": [],
   "source": [
    "lemmatizer = WordNetLemmatizer()"
   ]
  },
  {
   "cell_type": "code",
   "execution_count": 16,
   "id": "9164383e",
   "metadata": {},
   "outputs": [
    {
     "name": "stdout",
     "output_type": "stream",
     "text": [
      "['Sachin', 'GOAT', 'previous', 'generation', 'Virat', 'GOAT', 'generation', 'Shubman', 'GOAT', 'next', 'generation']\n"
     ]
    }
   ],
   "source": [
    "lemmatized_tokens = []\n",
    "for token in cleaned_tokens:\n",
    "  lemmatized = lemmatizer.lemmatize(token)\n",
    "  lemmatized_tokens.append(lemmatized)\n",
    "print(lemmatized_tokens)"
   ]
  },
  {
   "cell_type": "code",
   "execution_count": 17,
   "id": "9338477e",
   "metadata": {},
   "outputs": [],
   "source": [
    "from sklearn.feature_extraction.text import TfidfVectorizer\n",
    "from sklearn.metrics.pairwise import cosine_similarity\n",
    "import pandas as pd"
   ]
  },
  {
   "cell_type": "code",
   "execution_count": 18,
   "id": "75acc83e",
   "metadata": {},
   "outputs": [],
   "source": [
    "corpus = [\n",
    "    \"Sachin was the GOAT of the previous generation\",\n",
    "    \"Virat is the GOAT of the this generation\",\n",
    "    \"Shubman will be the GOAT of the next generation\"\n",
    "]"
   ]
  },
  {
   "cell_type": "code",
   "execution_count": 19,
   "id": "5998dbea",
   "metadata": {},
   "outputs": [],
   "source": [
    "vectorizer = TfidfVectorizer()"
   ]
  },
  {
   "cell_type": "code",
   "execution_count": 20,
   "id": "0b04a53a",
   "metadata": {},
   "outputs": [
    {
     "data": {
      "text/plain": [
       "{'sachin': 7,\n",
       " 'was': 12,\n",
       " 'the': 9,\n",
       " 'goat': 2,\n",
       " 'of': 5,\n",
       " 'previous': 6,\n",
       " 'generation': 1,\n",
       " 'virat': 11,\n",
       " 'is': 3,\n",
       " 'this': 10,\n",
       " 'shubman': 8,\n",
       " 'will': 13,\n",
       " 'be': 0,\n",
       " 'next': 4}"
      ]
     },
     "execution_count": 20,
     "metadata": {},
     "output_type": "execute_result"
    }
   ],
   "source": [
    "matrix = vectorizer.fit(corpus)\n",
    "matrix.vocabulary_"
   ]
  },
  {
   "cell_type": "code",
   "execution_count": 21,
   "id": "6a68c2de",
   "metadata": {},
   "outputs": [
    {
     "name": "stdout",
     "output_type": "stream",
     "text": [
      "  (0, 12)\t0.4286758743128819\n",
      "  (0, 9)\t0.5063657539459899\n",
      "  (0, 7)\t0.4286758743128819\n",
      "  (0, 6)\t0.4286758743128819\n",
      "  (0, 5)\t0.25318287697299496\n",
      "  (0, 2)\t0.25318287697299496\n",
      "  (0, 1)\t0.25318287697299496\n",
      "  (1, 11)\t0.4286758743128819\n",
      "  (1, 10)\t0.4286758743128819\n",
      "  (1, 9)\t0.5063657539459899\n",
      "  (1, 5)\t0.25318287697299496\n",
      "  (1, 3)\t0.4286758743128819\n",
      "  (1, 2)\t0.25318287697299496\n",
      "  (1, 1)\t0.25318287697299496\n",
      "  (2, 13)\t0.39400039808922477\n",
      "  (2, 9)\t0.4654059642457353\n",
      "  (2, 8)\t0.39400039808922477\n",
      "  (2, 5)\t0.23270298212286766\n",
      "  (2, 4)\t0.39400039808922477\n",
      "  (2, 2)\t0.23270298212286766\n",
      "  (2, 1)\t0.23270298212286766\n",
      "  (2, 0)\t0.39400039808922477\n"
     ]
    }
   ],
   "source": [
    "tfidf_matrix = vectorizer.transform(corpus)\n",
    "print(tfidf_matrix)"
   ]
  },
  {
   "cell_type": "code",
   "execution_count": 22,
   "id": "ec19af71",
   "metadata": {},
   "outputs": [
    {
     "name": "stdout",
     "output_type": "stream",
     "text": [
      "['be' 'generation' 'goat' 'is' 'next' 'of' 'previous' 'sachin' 'shubman'\n",
      " 'the' 'this' 'virat' 'was' 'will']\n"
     ]
    }
   ],
   "source": [
    "features_names = vectorizer.get_feature_names_out()\n",
    "print(features_names)"
   ]
  },
  {
   "cell_type": "code",
   "execution_count": 23,
   "id": "f6e42a71",
   "metadata": {},
   "outputs": [],
   "source": [
    "dense = tfidf_matrix.todense()\n",
    "denselist = dense.tolist()\n",
    "df = pd.DataFrame(denselist , columns = features_names)"
   ]
  },
  {
   "cell_type": "code",
   "execution_count": 24,
   "id": "35edb7f2",
   "metadata": {},
   "outputs": [
    {
     "data": {
      "text/html": [
       "<div>\n",
       "<style scoped>\n",
       "    .dataframe tbody tr th:only-of-type {\n",
       "        vertical-align: middle;\n",
       "    }\n",
       "\n",
       "    .dataframe tbody tr th {\n",
       "        vertical-align: top;\n",
       "    }\n",
       "\n",
       "    .dataframe thead th {\n",
       "        text-align: right;\n",
       "    }\n",
       "</style>\n",
       "<table border=\"1\" class=\"dataframe\">\n",
       "  <thead>\n",
       "    <tr style=\"text-align: right;\">\n",
       "      <th></th>\n",
       "      <th>be</th>\n",
       "      <th>generation</th>\n",
       "      <th>goat</th>\n",
       "      <th>is</th>\n",
       "      <th>next</th>\n",
       "      <th>of</th>\n",
       "      <th>previous</th>\n",
       "      <th>sachin</th>\n",
       "      <th>shubman</th>\n",
       "      <th>the</th>\n",
       "      <th>this</th>\n",
       "      <th>virat</th>\n",
       "      <th>was</th>\n",
       "      <th>will</th>\n",
       "    </tr>\n",
       "  </thead>\n",
       "  <tbody>\n",
       "    <tr>\n",
       "      <th>0</th>\n",
       "      <td>0.000</td>\n",
       "      <td>0.253183</td>\n",
       "      <td>0.253183</td>\n",
       "      <td>0.000000</td>\n",
       "      <td>0.000</td>\n",
       "      <td>0.253183</td>\n",
       "      <td>0.428676</td>\n",
       "      <td>0.428676</td>\n",
       "      <td>0.000</td>\n",
       "      <td>0.506366</td>\n",
       "      <td>0.000000</td>\n",
       "      <td>0.000000</td>\n",
       "      <td>0.428676</td>\n",
       "      <td>0.000</td>\n",
       "    </tr>\n",
       "    <tr>\n",
       "      <th>1</th>\n",
       "      <td>0.000</td>\n",
       "      <td>0.253183</td>\n",
       "      <td>0.253183</td>\n",
       "      <td>0.428676</td>\n",
       "      <td>0.000</td>\n",
       "      <td>0.253183</td>\n",
       "      <td>0.000000</td>\n",
       "      <td>0.000000</td>\n",
       "      <td>0.000</td>\n",
       "      <td>0.506366</td>\n",
       "      <td>0.428676</td>\n",
       "      <td>0.428676</td>\n",
       "      <td>0.000000</td>\n",
       "      <td>0.000</td>\n",
       "    </tr>\n",
       "    <tr>\n",
       "      <th>2</th>\n",
       "      <td>0.394</td>\n",
       "      <td>0.232703</td>\n",
       "      <td>0.232703</td>\n",
       "      <td>0.000000</td>\n",
       "      <td>0.394</td>\n",
       "      <td>0.232703</td>\n",
       "      <td>0.000000</td>\n",
       "      <td>0.000000</td>\n",
       "      <td>0.394</td>\n",
       "      <td>0.465406</td>\n",
       "      <td>0.000000</td>\n",
       "      <td>0.000000</td>\n",
       "      <td>0.000000</td>\n",
       "      <td>0.394</td>\n",
       "    </tr>\n",
       "  </tbody>\n",
       "</table>\n",
       "</div>"
      ],
      "text/plain": [
       "      be  generation      goat        is   next        of  previous    sachin  \\\n",
       "0  0.000    0.253183  0.253183  0.000000  0.000  0.253183  0.428676  0.428676   \n",
       "1  0.000    0.253183  0.253183  0.428676  0.000  0.253183  0.000000  0.000000   \n",
       "2  0.394    0.232703  0.232703  0.000000  0.394  0.232703  0.000000  0.000000   \n",
       "\n",
       "   shubman       the      this     virat       was   will  \n",
       "0    0.000  0.506366  0.000000  0.000000  0.428676  0.000  \n",
       "1    0.000  0.506366  0.428676  0.428676  0.000000  0.000  \n",
       "2    0.394  0.465406  0.000000  0.000000  0.000000  0.394  "
      ]
     },
     "execution_count": 24,
     "metadata": {},
     "output_type": "execute_result"
    }
   ],
   "source": [
    "df"
   ]
  },
  {
   "cell_type": "code",
   "execution_count": 25,
   "id": "c3b88955",
   "metadata": {},
   "outputs": [],
   "source": [
    "features_names = sorted(vectorizer.get_feature_names_out())"
   ]
  },
  {
   "cell_type": "code",
   "execution_count": 26,
   "id": "ef781526",
   "metadata": {},
   "outputs": [
    {
     "name": "stdout",
     "output_type": "stream",
     "text": [
      "          be  generation      goat        is   next        of  previous  \\\n",
      "Doc 1  0.000    0.253183  0.253183  0.000000  0.000  0.253183  0.428676   \n",
      "Doc 2  0.000    0.253183  0.253183  0.428676  0.000  0.253183  0.000000   \n",
      "Doc 3  0.394    0.232703  0.232703  0.000000  0.394  0.232703  0.000000   \n",
      "\n",
      "         sachin  shubman       the      this     virat       was   will  \n",
      "Doc 1  0.428676    0.000  0.506366  0.000000  0.000000  0.428676  0.000  \n",
      "Doc 2  0.000000    0.000  0.506366  0.428676  0.428676  0.000000  0.000  \n",
      "Doc 3  0.000000    0.394  0.465406  0.000000  0.000000  0.000000  0.394  \n"
     ]
    }
   ],
   "source": [
    "docList = ['Doc 1','Doc 2','Doc 3']\n",
    "skDocsIfIdfdf = pd.DataFrame(tfidf_matrix.todense(),index = sorted(docList), columns=features_names)\n",
    "print(skDocsIfIdfdf)"
   ]
  },
  {
   "cell_type": "code",
   "execution_count": 27,
   "id": "252962c8",
   "metadata": {},
   "outputs": [],
   "source": [
    "csim = cosine_similarity(tfidf_matrix,tfidf_matrix)"
   ]
  },
  {
   "cell_type": "code",
   "execution_count": 28,
   "id": "53b76127",
   "metadata": {},
   "outputs": [],
   "source": [
    "csimDf = pd.DataFrame(csim,index=sorted(docList),columns=sorted(docList))"
   ]
  },
  {
   "cell_type": "code",
   "execution_count": 29,
   "id": "d80947e6",
   "metadata": {},
   "outputs": [
    {
     "name": "stdout",
     "output_type": "stream",
     "text": [
      "          Doc 1     Doc 2     Doc 3\n",
      "Doc 1  1.000000  0.448711  0.412415\n",
      "Doc 2  0.448711  1.000000  0.412415\n",
      "Doc 3  0.412415  0.412415  1.000000\n"
     ]
    }
   ],
   "source": [
    "print(csimDf)"
   ]
  },
  {
   "cell_type": "code",
   "execution_count": 30,
   "id": "6b288175",
   "metadata": {},
   "outputs": [],
   "source": [
    "from wordcloud import WordCloud\n",
    "import matplotlib.pyplot as plt"
   ]
  },
  {
   "cell_type": "code",
   "execution_count": 38,
   "id": "8ee9641a",
   "metadata": {},
   "outputs": [],
   "source": [
    "with open(r\"C:\\\\Users\\\\Welcome\\\\Desktop\\\\corpus.txt\", 'r') as file:\n",
    "    text = file.read()\n"
   ]
  },
  {
   "cell_type": "code",
   "execution_count": 39,
   "id": "622b68b4-ac5d-4399-83c0-af6bca7d992b",
   "metadata": {},
   "outputs": [],
   "source": [
    "wordcloud = WordCloud(width=800, height=400, background_color='white').generate(text)"
   ]
  },
  {
   "cell_type": "code",
   "execution_count": 40,
   "id": "352949e4-a143-44ee-a77a-4658e160fe35",
   "metadata": {},
   "outputs": [
    {
     "data": {
      "image/png": "[encoded data removed]",
      "text/plain": [
       "<Figure size 1000x500 with 1 Axes>"
      ]
     },
     "metadata": {},
     "output_type": "display_data"
    }
   ],
   "source": [
    "plt.figure(figsize=(10, 5))\n",
    "plt.imshow(wordcloud, interpolation='bilinear')\n",
    "plt.axis('off')  # Turn off axis numbers\n",
    "plt.show()"
   ]
  },
  {
   "cell_type": "code",
   "execution_count": null,
   "id": "e0b6232c-78a6-459a-99dd-0a7554569450",
   "metadata": {},
   "outputs": [],
   "source": []
  }
 ],
 "metadata": {
  "kernelspec": {
   "display_name": "Python 3 (ipykernel)",
   "language": "python",
   "name": "python3"
  },
  "language_info": {
   "codemirror_mode": {
    "name": "ipython",
    "version": 3
   },
   "file_extension": ".py",
   "mimetype": "text/x-python",
   "name": "python",
   "nbconvert_exporter": "python",
   "pygments_lexer": "ipython3",
   "version": "3.11.7"
  }
 },
 "nbformat": 4,
 "nbformat_minor": 5
}
